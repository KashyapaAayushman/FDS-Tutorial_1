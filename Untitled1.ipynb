{
  "nbformat": 4,
  "nbformat_minor": 0,
  "metadata": {
    "colab": {
      "provenance": [],
      "authorship_tag": "ABX9TyNxUH9Ro4mv2/iwLvEeAoxK",
      "include_colab_link": true
    },
    "kernelspec": {
      "name": "python3",
      "display_name": "Python 3"
    },
    "language_info": {
      "name": "python"
    }
  },
  "cells": [
    {
      "cell_type": "markdown",
      "metadata": {
        "id": "view-in-github",
        "colab_type": "text"
      },
      "source": [
        "<a href=\"https://colab.research.google.com/github/KashyapaAayushman/FDS-Tutorial_1/blob/main/Untitled1.ipynb\" target=\"_parent\"><img src=\"https://colab.research.google.com/assets/colab-badge.svg\" alt=\"Open In Colab\"/></a>"
      ]
    },
    {
      "cell_type": "code",
      "execution_count": 6,
      "metadata": {
        "colab": {
          "base_uri": "https://localhost:8080/",
          "height": 106
        },
        "id": "0l1keCmFqJ-U",
        "outputId": "d1746b9e-6fb2-4e66-f518-5eaa91632a9e"
      },
      "outputs": [
        {
          "output_type": "error",
          "ename": "SyntaxError",
          "evalue": "(unicode error) 'unicodeescape' codec can't decode bytes in position 2-3: truncated \\UXXXXXXXX escape (<ipython-input-6-0970cf829944>, line 7)",
          "traceback": [
            "\u001b[0;36m  File \u001b[0;32m\"<ipython-input-6-0970cf829944>\"\u001b[0;36m, line \u001b[0;32m7\u001b[0m\n\u001b[0;31m    df = pd.read_excel(\"C:\\Users\\kashy\\Downloads\\New folder\\rainfallprediction.xlsx\")\u001b[0m\n\u001b[0m                                                                                    ^\u001b[0m\n\u001b[0;31mSyntaxError\u001b[0m\u001b[0;31m:\u001b[0m (unicode error) 'unicodeescape' codec can't decode bytes in position 2-3: truncated \\UXXXXXXXX escape\n"
          ]
        }
      ],
      "source": [
        "import pandas as pd\n",
        "from sklearn.model_selection import train_test_split\n",
        "from sklearn.ensemble import RandomForestRegressor\n",
        "from sklearn.metrics import mean_squared_error\n",
        "\n",
        "# Load the dataset from the Excel file\n",
        "df = pd.read_excel(\"C:\\Users\\kashy\\Downloads\\New folder\\rainfallprediction.xlsx\")\n",
        "\n",
        "# Preprocess the data by converting the date column to datetime format\n",
        "df['Date'] = pd.to_datetime(df['Date'])\n",
        "\n",
        "# Split the dataset into features (X) and target (y)\n",
        "X = df.drop(['Rainfall'], axis=1)\n",
        "y = df['Rainfall']\n",
        "\n",
        "# Split the data into training and testing sets\n",
        "X_train, X_test, y_train, y_test = train_test_split(X, y, test_size=0.2, random_state=42)\n",
        "\n",
        "# Create a random forest regressor model\n",
        "model = RandomForestRegressor(n_estimators=100, random_state=42)\n",
        "\n",
        "# Train the model on the training data\n",
        "model.fit(X_train, y_train)\n",
        "\n",
        "# Make predictions on the testing data\n",
        "y_pred = model.predict(X_test)\n",
        "\n",
        "# Evaluate the model using mean squared error\n",
        "mse = mean_squared_error(y_test, y_pred)\n",
        "print(f'Mean squared error: {mse:.2f}')\n",
        "\n",
        "# Use the trained model to make predictions on new data\n",
        "new_data = pd.DataFrame({'Date': ['2024-08-17'], 'Temperature': [25], 'Humidity': [60], 'Wind Speed': [10]})\n",
        "new_data['Date'] = pd.to_datetime(new_data['Date'])\n",
        "prediction = model.predict(new_data.drop(['Date'], axis=1))\n",
        "print(f'Predicted rainfall: {prediction[0]:.2f} mm')"
      ]
    }
  ]
}